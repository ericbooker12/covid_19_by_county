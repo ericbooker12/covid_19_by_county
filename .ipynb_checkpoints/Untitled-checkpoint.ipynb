{
 "cells": [
  {
   "cell_type": "code",
   "execution_count": 234,
   "metadata": {},
   "outputs": [],
   "source": [
    "import pandas as pd\n",
    "import numpy as np\n",
    "import datetime"
   ]
  },
  {
   "cell_type": "code",
   "execution_count": 235,
   "metadata": {},
   "outputs": [
    {
     "name": "stdout",
     "output_type": "stream",
     "text": [
      "             county       state  population\n",
      "0           Alameda  California   1,671,329\n",
      "1            Alpine  California       1,129\n",
      "2            Amador  California      39,752\n",
      "3             Butte  California     219,186\n",
      "4         Calaveras  California      45,905\n",
      "5            Colusa  California      21,547\n",
      "6      Contra Costa  California   1,153,526\n",
      "7         Del Norte  California      27,812\n",
      "8         El Dorado  California     192,843\n",
      "9            Fresno  California     999,101\n",
      "10            Glenn  California      28,393\n",
      "11         Humboldt  California     135,558\n",
      "12         Imperial  California     181,215\n",
      "13             Inyo  California      18,039\n",
      "14             Kern  California     900,202\n",
      "15            Kings  California     152,940\n",
      "16             Lake  California      64,386\n",
      "17           Lassen  California      30,573\n",
      "18      Los Angeles  California  10,039,107\n",
      "19           Madera  California     157,327\n",
      "20            Marin  California     258,826\n",
      "21         Mariposa  California      17,203\n",
      "22        Mendocino  California      86,749\n",
      "23           Merced  California     277,680\n",
      "24            Modoc  California       8,841\n",
      "25             Mono  California      14,444\n",
      "26         Monterey  California     434,061\n",
      "27             Napa  California     137,744\n",
      "28           Nevada  California      99,755\n",
      "29           Orange  California   3,175,692\n",
      "30           Placer  California     398,329\n",
      "31           Plumas  California      18,807\n",
      "32        Riverside  California   2,470,546\n",
      "33       Sacramento  California   1,552,058\n",
      "34       San Benito  California      62,808\n",
      "35   San Bernardino  California   2,180,085\n",
      "36        San Diego  California   3,338,330\n",
      "37    San Francisco  California     881,549\n",
      "38      San Joaquin  California     762,148\n",
      "39  San Luis Obispo  California     283,111\n",
      "40        San Mateo  California     766,573\n",
      "41    Santa Barbara  California     446,499\n",
      "42      Santa Clara  California   1,927,852\n",
      "43       Santa Cruz  California     273,213\n",
      "44           Shasta  California     180,080\n",
      "45           Sierra  California       3,005\n",
      "46         Siskiyou  California      43,539\n",
      "47           Solano  California     447,643\n",
      "48           Sonoma  California     494,336\n",
      "49       Stanislaus  California     550,660\n",
      "50           Sutter  California      96,971\n",
      "51           Tehama  California      65,084\n",
      "52          Trinity  California      12,285\n",
      "53           Tulare  California     466,195\n",
      "54         Tuolumne  California      54,478\n",
      "55          Ventura  California     846,006\n",
      "56             Yolo  California     220,500\n",
      "57             Yuba  California      78,668\n"
     ]
    }
   ],
   "source": [
    "url = \"https://raw.githubusercontent.com/nytimes/covid-19-data/master/us-counties.csv\"\n",
    "data = get_california_data().tail()\n",
    "population = pd.read_csv(\"./static/data/population_data/population_data.csv\")\n",
    "\n",
    "# pop[\"population] = pop[\"population\"].str.replace(\",\",\"\").astype(float)"
   ]
  },
  {
   "cell_type": "code",
   "execution_count": 236,
   "metadata": {},
   "outputs": [],
   "source": [
    "data.loc[:, \"population\"] = \"\""
   ]
  },
  {
   "cell_type": "code",
   "execution_count": 237,
   "metadata": {
    "scrolled": true
   },
   "outputs": [
    {
     "ename": "NameError",
     "evalue": "name 'pop_values' is not defined",
     "output_type": "error",
     "traceback": [
      "\u001b[0;31m---------------------------------------------------------------------------\u001b[0m",
      "\u001b[0;31mNameError\u001b[0m                                 Traceback (most recent call last)",
      "\u001b[0;32m<ipython-input-237-9075e690e881>\u001b[0m in \u001b[0;36m<module>\u001b[0;34m\u001b[0m\n\u001b[0;32m----> 1\u001b[0;31m \u001b[0mpop_values\u001b[0m \u001b[0;34m=\u001b[0m \u001b[0mlist\u001b[0m\u001b[0;34m(\u001b[0m\u001b[0mpop_values\u001b[0m\u001b[0;34m.\u001b[0m\u001b[0mloc\u001b[0m\u001b[0;34m[\u001b[0m\u001b[0;34m:\u001b[0m\u001b[0;34m,\u001b[0m \u001b[0;34m\"population\"\u001b[0m\u001b[0;34m]\u001b[0m\u001b[0;34m)\u001b[0m\u001b[0;34m\u001b[0m\u001b[0;34m\u001b[0m\u001b[0m\n\u001b[0m\u001b[1;32m      2\u001b[0m \u001b[0mcounty\u001b[0m \u001b[0;34m=\u001b[0m \u001b[0mlist\u001b[0m\u001b[0;34m(\u001b[0m\u001b[0mpop_values\u001b[0m\u001b[0;34m.\u001b[0m\u001b[0mloc\u001b[0m\u001b[0;34m[\u001b[0m\u001b[0;34m:\u001b[0m\u001b[0;34m,\u001b[0m \u001b[0;34m\"county\"\u001b[0m\u001b[0;34m]\u001b[0m\u001b[0;34m)\u001b[0m\u001b[0;34m\u001b[0m\u001b[0;34m\u001b[0m\u001b[0m\n\u001b[1;32m      3\u001b[0m \u001b[0;34m\u001b[0m\u001b[0m\n\u001b[1;32m      4\u001b[0m \u001b[0mpop_data\u001b[0m \u001b[0;34m=\u001b[0m \u001b[0mdict\u001b[0m\u001b[0;34m(\u001b[0m\u001b[0mzip\u001b[0m\u001b[0;34m(\u001b[0m\u001b[0mcounty\u001b[0m\u001b[0;34m,\u001b[0m \u001b[0mpop_values\u001b[0m\u001b[0;34m)\u001b[0m\u001b[0;34m)\u001b[0m\u001b[0;34m\u001b[0m\u001b[0;34m\u001b[0m\u001b[0m\n",
      "\u001b[0;31mNameError\u001b[0m: name 'pop_values' is not defined"
     ]
    }
   ],
   "source": [
    "pop_values = list(pop_values.loc[:, \"population\"])\n",
    "county = list(pop_values.loc[:, \"county\"])\n",
    "\n",
    "pop_data = dict(zip(county, pop_values)) "
   ]
  },
  {
   "cell_type": "code",
   "execution_count": null,
   "metadata": {},
   "outputs": [],
   "source": []
  },
  {
   "cell_type": "code",
   "execution_count": null,
   "metadata": {},
   "outputs": [],
   "source": [
    "population_data = []\n",
    "\n",
    "for index, row in data.iterrows():\n",
    "    county = row['county']\n",
    "    pop = int(pop_data[county].replace(\",\",\"\"))\n",
    "    population_data.append(pop)\n",
    "    \n",
    "population = np.array(pd.Series(arr))\n",
    "\n",
    "data.loc[:, 'population'] = population"
   ]
  },
  {
   "cell_type": "code",
   "execution_count": null,
   "metadata": {},
   "outputs": [],
   "source": [
    "data"
   ]
  },
  {
   "cell_type": "code",
   "execution_count": null,
   "metadata": {},
   "outputs": [],
   "source": []
  },
  {
   "cell_type": "code",
   "execution_count": null,
   "metadata": {},
   "outputs": [],
   "source": []
  }
 ],
 "metadata": {
  "kernelspec": {
   "display_name": "Python 3",
   "language": "python",
   "name": "python3"
  },
  "language_info": {
   "codemirror_mode": {
    "name": "ipython",
    "version": 3
   },
   "file_extension": ".py",
   "mimetype": "text/x-python",
   "name": "python",
   "nbconvert_exporter": "python",
   "pygments_lexer": "ipython3",
   "version": "3.7.7"
  }
 },
 "nbformat": 4,
 "nbformat_minor": 4
}
