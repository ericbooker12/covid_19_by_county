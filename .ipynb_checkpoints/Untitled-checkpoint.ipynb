{
 "cells": [
  {
   "cell_type": "code",
   "execution_count": 2,
   "metadata": {},
   "outputs": [],
   "source": [
    "counties = ['Alameda','Alpine','Amador','Butte','Calaveras','Colusa',\n",
    "'Contra Costa','Del Norte','El Dorado','Fresno','Glenn',\n",
    "'Humboldt','Imperial','Inyo','Kern','Kings','Lake','Los Angeles',\n",
    "'Madera','Marin','Mendocino','Merced','Mono','Monterey','Napa','Nevada',\n",
    "'Orange','Placer','Plumas','Riverside','Sacramento','San Benito','San Bernardino',\n",
    "'San Diego','San Francisco','San Joaquin','San Luis Obispo','San Mateo',\n",
    "'Santa Barbara','Santa Clara','Santa Cruz','Shasta','Siskiyou','Solano',\n",
    "'Sonoma','Stanislaus','Sutter','Tehama','Tulare','Tuolumne','Unknown',\n",
    "'Ventura','Yolo','Yuba']\n",
    "    "
   ]
  },
  {
   "cell_type": "code",
   "execution_count": 4,
   "metadata": {},
   "outputs": [],
   "source": [
    "for county in counties:\n",
    "    c = county.split(\" \")\n",
    "    c = c.join(_)\n",
    "    "
   ]
  },
  {
   "cell_type": "code",
   "execution_count": null,
   "metadata": {},
   "outputs": [],
   "source": []
  }
 ],
 "metadata": {
  "kernelspec": {
   "display_name": "Python 3",
   "language": "python",
   "name": "python3"
  },
  "language_info": {
   "codemirror_mode": {
    "name": "ipython",
    "version": 3
   },
   "file_extension": ".py",
   "mimetype": "text/x-python",
   "name": "python",
   "nbconvert_exporter": "python",
   "pygments_lexer": "ipython3",
   "version": "3.7.3"
  }
 },
 "nbformat": 4,
 "nbformat_minor": 2
}
