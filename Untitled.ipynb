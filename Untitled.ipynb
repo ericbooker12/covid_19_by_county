{
 "cells": [
  {
   "cell_type": "code",
   "execution_count": 2,
   "metadata": {},
   "outputs": [],
   "source": [
    "counties = ['Alameda','Alpine','Amador','Butte','Calaveras','Colusa',\n",
    "'Contra Costa','Del Norte','El Dorado','Fresno','Glenn',\n",
    "'Humboldt','Imperial','Inyo','Kern','Kings','Lake','Los Angeles',\n",
    "'Madera','Marin','Mendocino','Merced','Mono','Monterey','Napa','Nevada',\n",
    "'Orange','Placer','Plumas','Riverside','Sacramento','San Benito','San Bernardino',\n",
    "'San Diego','San Francisco','San Joaquin','San Luis Obispo','San Mateo',\n",
    "'Santa Barbara','Santa Clara','Santa Cruz','Shasta','Siskiyou','Solano',\n",
    "'Sonoma','Stanislaus','Sutter','Tehama','Tulare','Tuolumne','Unknown',\n",
    "'Ventura','Yolo','Yuba']\n",
    "    "
   ]
  },
  {
   "cell_type": "code",
   "execution_count": 22,
   "metadata": {},
   "outputs": [],
   "source": [
    "county_dict = {}\n",
    "for county in counties:\n",
    "    c = county.split(\" \")\n",
    "    s = \"_\"\n",
    "    x = s.join(c).lower()\n",
    "    county_dict[county] = x\n",
    "    "
   ]
  },
  {
   "cell_type": "code",
   "execution_count": 23,
   "metadata": {},
   "outputs": [
    {
     "data": {
      "text/plain": [
       "{'Alameda': 'alameda',\n",
       " 'Alpine': 'alpine',\n",
       " 'Amador': 'amador',\n",
       " 'Butte': 'butte',\n",
       " 'Calaveras': 'calaveras',\n",
       " 'Colusa': 'colusa',\n",
       " 'Contra Costa': 'contra_costa',\n",
       " 'Del Norte': 'del_norte',\n",
       " 'El Dorado': 'el_dorado',\n",
       " 'Fresno': 'fresno',\n",
       " 'Glenn': 'glenn',\n",
       " 'Humboldt': 'humboldt',\n",
       " 'Imperial': 'imperial',\n",
       " 'Inyo': 'inyo',\n",
       " 'Kern': 'kern',\n",
       " 'Kings': 'kings',\n",
       " 'Lake': 'lake',\n",
       " 'Los Angeles': 'los_angeles',\n",
       " 'Madera': 'madera',\n",
       " 'Marin': 'marin',\n",
       " 'Mendocino': 'mendocino',\n",
       " 'Merced': 'merced',\n",
       " 'Mono': 'mono',\n",
       " 'Monterey': 'monterey',\n",
       " 'Napa': 'napa',\n",
       " 'Nevada': 'nevada',\n",
       " 'Orange': 'orange',\n",
       " 'Placer': 'placer',\n",
       " 'Plumas': 'plumas',\n",
       " 'Riverside': 'riverside',\n",
       " 'Sacramento': 'sacramento',\n",
       " 'San Benito': 'san_benito',\n",
       " 'San Bernardino': 'san_bernardino',\n",
       " 'San Diego': 'san_diego',\n",
       " 'San Francisco': 'san_francisco',\n",
       " 'San Joaquin': 'san_joaquin',\n",
       " 'San Luis Obispo': 'san_luis_obispo',\n",
       " 'San Mateo': 'san_mateo',\n",
       " 'Santa Barbara': 'santa_barbara',\n",
       " 'Santa Clara': 'santa_clara',\n",
       " 'Santa Cruz': 'santa_cruz',\n",
       " 'Shasta': 'shasta',\n",
       " 'Siskiyou': 'siskiyou',\n",
       " 'Solano': 'solano',\n",
       " 'Sonoma': 'sonoma',\n",
       " 'Stanislaus': 'stanislaus',\n",
       " 'Sutter': 'sutter',\n",
       " 'Tehama': 'tehama',\n",
       " 'Tulare': 'tulare',\n",
       " 'Tuolumne': 'tuolumne',\n",
       " 'Unknown': 'unknown',\n",
       " 'Ventura': 'ventura',\n",
       " 'Yolo': 'yolo',\n",
       " 'Yuba': 'yuba'}"
      ]
     },
     "execution_count": 23,
     "metadata": {},
     "output_type": "execute_result"
    }
   ],
   "source": [
    "county_dict"
   ]
  },
  {
   "cell_type": "code",
   "execution_count": 30,
   "metadata": {},
   "outputs": [
    {
     "name": "stdout",
     "output_type": "stream",
     "text": [
      "Alameda, alameda\n",
      "Alpine, alpine\n",
      "Amador, amador\n",
      "Butte, butte\n",
      "Calaveras, calaveras\n",
      "Colusa, colusa\n",
      "Contra Costa, contra_costa\n",
      "Del Norte, del_norte\n",
      "El Dorado, el_dorado\n",
      "Fresno, fresno\n",
      "Glenn, glenn\n",
      "Humboldt, humboldt\n",
      "Imperial, imperial\n",
      "Inyo, inyo\n",
      "Kern, kern\n",
      "Kings, kings\n",
      "Lake, lake\n",
      "Los Angeles, los_angeles\n",
      "Madera, madera\n",
      "Marin, marin\n",
      "Mendocino, mendocino\n",
      "Merced, merced\n",
      "Mono, mono\n",
      "Monterey, monterey\n",
      "Napa, napa\n",
      "Nevada, nevada\n",
      "Orange, orange\n",
      "Placer, placer\n",
      "Plumas, plumas\n",
      "Riverside, riverside\n",
      "Sacramento, sacramento\n",
      "San Benito, san_benito\n",
      "San Bernardino, san_bernardino\n",
      "San Diego, san_diego\n",
      "San Francisco, san_francisco\n",
      "San Joaquin, san_joaquin\n",
      "San Luis Obispo, san_luis_obispo\n",
      "San Mateo, san_mateo\n",
      "Santa Barbara, santa_barbara\n",
      "Santa Clara, santa_clara\n",
      "Santa Cruz, santa_cruz\n",
      "Shasta, shasta\n",
      "Siskiyou, siskiyou\n",
      "Solano, solano\n",
      "Sonoma, sonoma\n",
      "Stanislaus, stanislaus\n",
      "Sutter, sutter\n",
      "Tehama, tehama\n",
      "Tulare, tulare\n",
      "Tuolumne, tuolumne\n",
      "Unknown, unknown\n",
      "Ventura, ventura\n",
      "Yolo, yolo\n",
      "Yuba, yuba\n"
     ]
    }
   ],
   "source": [
    "for key, value in county_dict.items():\n",
    "    print(key + \", \" +  value)\n",
    "    "
   ]
  },
  {
   "cell_type": "code",
   "execution_count": null,
   "metadata": {},
   "outputs": [],
   "source": []
  },
  {
   "cell_type": "code",
   "execution_count": null,
   "metadata": {},
   "outputs": [],
   "source": []
  }
 ],
 "metadata": {
  "kernelspec": {
   "display_name": "Python 3",
   "language": "python",
   "name": "python3"
  },
  "language_info": {
   "codemirror_mode": {
    "name": "ipython",
    "version": 3
   },
   "file_extension": ".py",
   "mimetype": "text/x-python",
   "name": "python",
   "nbconvert_exporter": "python",
   "pygments_lexer": "ipython3",
   "version": "3.7.3"
  }
 },
 "nbformat": 4,
 "nbformat_minor": 2
}
