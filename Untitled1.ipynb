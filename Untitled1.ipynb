{
 "cells": [
  {
   "cell_type": "code",
   "execution_count": 3,
   "metadata": {},
   "outputs": [],
   "source": [
    "import pandas as pd\n",
    "import numpy as np\n",
    "url = \"https://raw.githubusercontent.com/nytimes/covid-19-data/master/us-counties.csv\"\n",
    "data = pd.read_csv(url)"
   ]
  },
  {
   "cell_type": "code",
   "execution_count": 4,
   "metadata": {},
   "outputs": [],
   "source": [
    "filter = (data.loc[:, \"county\"] == \"San Diego\") & (data.loc[:, \"state\"] == \"California\")\n",
    "# & data.loc[:, \"state\"] == \"California\"\n",
    "county_data = data.loc[filter, :]\n",
    "county_data = county_data.reset_index(drop=True)"
   ]
  },
  {
   "cell_type": "code",
   "execution_count": 12,
   "metadata": {},
   "outputs": [],
   "source": [
    "data_json = county_data.to_json()\n",
    "data_json2 = county_data.to_json(orient=\"records\")\n"
   ]
  },
  {
   "cell_type": "code",
   "execution_count": 10,
   "metadata": {},
   "outputs": [
    {
     "data": {
      "text/plain": [
       "str"
      ]
     },
     "execution_count": 10,
     "metadata": {},
     "output_type": "execute_result"
    }
   ],
   "source": [
    "type(data_json)"
   ]
  },
  {
   "cell_type": "code",
   "execution_count": 13,
   "metadata": {},
   "outputs": [
    {
     "data": {
      "text/plain": [
       "'[{\"date\":\"2020-02-10\",\"county\":\"San Diego\",\"state\":\"California\",\"fips\":6073.0,\"cases\":1,\"deaths\":0},{\"date\":\"2020-02-11\",\"county\":\"San Diego\",\"state\":\"California\",\"fips\":6073.0,\"cases\":1,\"deaths\":0},{\"date\":\"2020-02-12\",\"county\":\"San Diego\",\"state\":\"California\",\"fips\":6073.0,\"cases\":1,\"deaths\":0},{\"date\":\"2020-02-13\",\"county\":\"San Diego\",\"state\":\"California\",\"fips\":6073.0,\"cases\":1,\"deaths\":0},{\"date\":\"2020-02-14\",\"county\":\"San Diego\",\"state\":\"California\",\"fips\":6073.0,\"cases\":1,\"deaths\":0},{\"date\":\"2020-02-15\",\"county\":\"San Diego\",\"state\":\"California\",\"fips\":6073.0,\"cases\":1,\"deaths\":0},{\"date\":\"2020-02-16\",\"county\":\"San Diego\",\"state\":\"California\",\"fips\":6073.0,\"cases\":1,\"deaths\":0},{\"date\":\"2020-02-17\",\"county\":\"San Diego\",\"state\":\"California\",\"fips\":6073.0,\"cases\":1,\"deaths\":0},{\"date\":\"2020-02-18\",\"county\":\"San Diego\",\"state\":\"California\",\"fips\":6073.0,\"cases\":1,\"deaths\":0},{\"date\":\"2020-02-19\",\"county\":\"San Diego\",\"state\":\"California\",\"fips\":6073.0,\"cases\":1,\"deaths\":0},{\"date\":\"2020-02-20\",\"county\":\"San Diego\",\"state\":\"California\",\"fips\":6073.0,\"cases\":1,\"deaths\":0},{\"date\":\"2020-02-21\",\"county\":\"San Diego\",\"state\":\"California\",\"fips\":6073.0,\"cases\":1,\"deaths\":0},{\"date\":\"2020-02-22\",\"county\":\"San Diego\",\"state\":\"California\",\"fips\":6073.0,\"cases\":1,\"deaths\":0},{\"date\":\"2020-02-23\",\"county\":\"San Diego\",\"state\":\"California\",\"fips\":6073.0,\"cases\":1,\"deaths\":0},{\"date\":\"2020-02-24\",\"county\":\"San Diego\",\"state\":\"California\",\"fips\":6073.0,\"cases\":1,\"deaths\":0},{\"date\":\"2020-02-25\",\"county\":\"San Diego\",\"state\":\"California\",\"fips\":6073.0,\"cases\":1,\"deaths\":0},{\"date\":\"2020-02-26\",\"county\":\"San Diego\",\"state\":\"California\",\"fips\":6073.0,\"cases\":1,\"deaths\":0},{\"date\":\"2020-02-27\",\"county\":\"San Diego\",\"state\":\"California\",\"fips\":6073.0,\"cases\":1,\"deaths\":0},{\"date\":\"2020-02-28\",\"county\":\"San Diego\",\"state\":\"California\",\"fips\":6073.0,\"cases\":1,\"deaths\":0},{\"date\":\"2020-02-29\",\"county\":\"San Diego\",\"state\":\"California\",\"fips\":6073.0,\"cases\":1,\"deaths\":0},{\"date\":\"2020-03-01\",\"county\":\"San Diego\",\"state\":\"California\",\"fips\":6073.0,\"cases\":1,\"deaths\":0},{\"date\":\"2020-03-02\",\"county\":\"San Diego\",\"state\":\"California\",\"fips\":6073.0,\"cases\":1,\"deaths\":0},{\"date\":\"2020-03-03\",\"county\":\"San Diego\",\"state\":\"California\",\"fips\":6073.0,\"cases\":1,\"deaths\":0},{\"date\":\"2020-03-04\",\"county\":\"San Diego\",\"state\":\"California\",\"fips\":6073.0,\"cases\":1,\"deaths\":0},{\"date\":\"2020-03-05\",\"county\":\"San Diego\",\"state\":\"California\",\"fips\":6073.0,\"cases\":1,\"deaths\":0},{\"date\":\"2020-03-06\",\"county\":\"San Diego\",\"state\":\"California\",\"fips\":6073.0,\"cases\":1,\"deaths\":0},{\"date\":\"2020-03-07\",\"county\":\"San Diego\",\"state\":\"California\",\"fips\":6073.0,\"cases\":1,\"deaths\":0},{\"date\":\"2020-03-08\",\"county\":\"San Diego\",\"state\":\"California\",\"fips\":6073.0,\"cases\":1,\"deaths\":0},{\"date\":\"2020-03-09\",\"county\":\"San Diego\",\"state\":\"California\",\"fips\":6073.0,\"cases\":2,\"deaths\":0},{\"date\":\"2020-03-10\",\"county\":\"San Diego\",\"state\":\"California\",\"fips\":6073.0,\"cases\":2,\"deaths\":0},{\"date\":\"2020-03-11\",\"county\":\"San Diego\",\"state\":\"California\",\"fips\":6073.0,\"cases\":2,\"deaths\":0},{\"date\":\"2020-03-12\",\"county\":\"San Diego\",\"state\":\"California\",\"fips\":6073.0,\"cases\":5,\"deaths\":0},{\"date\":\"2020-03-13\",\"county\":\"San Diego\",\"state\":\"California\",\"fips\":6073.0,\"cases\":9,\"deaths\":0},{\"date\":\"2020-03-14\",\"county\":\"San Diego\",\"state\":\"California\",\"fips\":6073.0,\"cases\":10,\"deaths\":0},{\"date\":\"2020-03-15\",\"county\":\"San Diego\",\"state\":\"California\",\"fips\":6073.0,\"cases\":40,\"deaths\":0},{\"date\":\"2020-03-16\",\"county\":\"San Diego\",\"state\":\"California\",\"fips\":6073.0,\"cases\":56,\"deaths\":0},{\"date\":\"2020-03-17\",\"county\":\"San Diego\",\"state\":\"California\",\"fips\":6073.0,\"cases\":61,\"deaths\":0},{\"date\":\"2020-03-18\",\"county\":\"San Diego\",\"state\":\"California\",\"fips\":6073.0,\"cases\":81,\"deaths\":0},{\"date\":\"2020-03-19\",\"county\":\"San Diego\",\"state\":\"California\",\"fips\":6073.0,\"cases\":105,\"deaths\":0},{\"date\":\"2020-03-20\",\"county\":\"San Diego\",\"state\":\"California\",\"fips\":6073.0,\"cases\":131,\"deaths\":0},{\"date\":\"2020-03-21\",\"county\":\"San Diego\",\"state\":\"California\",\"fips\":6073.0,\"cases\":159,\"deaths\":0},{\"date\":\"2020-03-22\",\"county\":\"San Diego\",\"state\":\"California\",\"fips\":6073.0,\"cases\":205,\"deaths\":0},{\"date\":\"2020-03-23\",\"county\":\"San Diego\",\"state\":\"California\",\"fips\":6073.0,\"cases\":230,\"deaths\":0},{\"date\":\"2020-03-24\",\"county\":\"San Diego\",\"state\":\"California\",\"fips\":6073.0,\"cases\":242,\"deaths\":1},{\"date\":\"2020-03-25\",\"county\":\"San Diego\",\"state\":\"California\",\"fips\":6073.0,\"cases\":297,\"deaths\":2},{\"date\":\"2020-03-26\",\"county\":\"San Diego\",\"state\":\"California\",\"fips\":6073.0,\"cases\":341,\"deaths\":3},{\"date\":\"2020-03-27\",\"county\":\"San Diego\",\"state\":\"California\",\"fips\":6073.0,\"cases\":417,\"deaths\":5},{\"date\":\"2020-03-28\",\"county\":\"San Diego\",\"state\":\"California\",\"fips\":6073.0,\"cases\":488,\"deaths\":7},{\"date\":\"2020-03-29\",\"county\":\"San Diego\",\"state\":\"California\",\"fips\":6073.0,\"cases\":519,\"deaths\":7},{\"date\":\"2020-03-30\",\"county\":\"San Diego\",\"state\":\"California\",\"fips\":6073.0,\"cases\":603,\"deaths\":7},{\"date\":\"2020-03-31\",\"county\":\"San Diego\",\"state\":\"California\",\"fips\":6073.0,\"cases\":734,\"deaths\":9},{\"date\":\"2020-04-01\",\"county\":\"San Diego\",\"state\":\"California\",\"fips\":6073.0,\"cases\":849,\"deaths\":15},{\"date\":\"2020-04-02\",\"county\":\"San Diego\",\"state\":\"California\",\"fips\":6073.0,\"cases\":966,\"deaths\":16},{\"date\":\"2020-04-03\",\"county\":\"San Diego\",\"state\":\"California\",\"fips\":6073.0,\"cases\":1112,\"deaths\":17},{\"date\":\"2020-04-04\",\"county\":\"San Diego\",\"state\":\"California\",\"fips\":6073.0,\"cases\":1209,\"deaths\":18},{\"date\":\"2020-04-05\",\"county\":\"San Diego\",\"state\":\"California\",\"fips\":6073.0,\"cases\":1326,\"deaths\":19},{\"date\":\"2020-04-06\",\"county\":\"San Diego\",\"state\":\"California\",\"fips\":6073.0,\"cases\":1404,\"deaths\":19},{\"date\":\"2020-04-07\",\"county\":\"San Diego\",\"state\":\"California\",\"fips\":6073.0,\"cases\":1454,\"deaths\":31},{\"date\":\"2020-04-08\",\"county\":\"San Diego\",\"state\":\"California\",\"fips\":6073.0,\"cases\":1530,\"deaths\":36},{\"date\":\"2020-04-09\",\"county\":\"San Diego\",\"state\":\"California\",\"fips\":6073.0,\"cases\":1628,\"deaths\":40},{\"date\":\"2020-04-10\",\"county\":\"San Diego\",\"state\":\"California\",\"fips\":6073.0,\"cases\":1696,\"deaths\":44},{\"date\":\"2020-04-11\",\"county\":\"San Diego\",\"state\":\"California\",\"fips\":6073.0,\"cases\":1761,\"deaths\":45},{\"date\":\"2020-04-12\",\"county\":\"San Diego\",\"state\":\"California\",\"fips\":6073.0,\"cases\":1804,\"deaths\":45},{\"date\":\"2020-04-13\",\"county\":\"San Diego\",\"state\":\"California\",\"fips\":6073.0,\"cases\":1847,\"deaths\":47},{\"date\":\"2020-04-14\",\"county\":\"San Diego\",\"state\":\"California\",\"fips\":6073.0,\"cases\":1930,\"deaths\":53},{\"date\":\"2020-04-15\",\"county\":\"San Diego\",\"state\":\"California\",\"fips\":6073.0,\"cases\":2012,\"deaths\":60},{\"date\":\"2020-04-16\",\"county\":\"San Diego\",\"state\":\"California\",\"fips\":6073.0,\"cases\":2087,\"deaths\":63},{\"date\":\"2020-04-17\",\"county\":\"San Diego\",\"state\":\"California\",\"fips\":6073.0,\"cases\":2158,\"deaths\":70},{\"date\":\"2020-04-18\",\"county\":\"San Diego\",\"state\":\"California\",\"fips\":6073.0,\"cases\":2213,\"deaths\":71},{\"date\":\"2020-04-19\",\"county\":\"San Diego\",\"state\":\"California\",\"fips\":6073.0,\"cases\":2268,\"deaths\":71},{\"date\":\"2020-04-20\",\"county\":\"San Diego\",\"state\":\"California\",\"fips\":6073.0,\"cases\":2325,\"deaths\":72},{\"date\":\"2020-04-21\",\"county\":\"San Diego\",\"state\":\"California\",\"fips\":6073.0,\"cases\":2434,\"deaths\":87},{\"date\":\"2020-04-22\",\"county\":\"San Diego\",\"state\":\"California\",\"fips\":6073.0,\"cases\":2491,\"deaths\":96},{\"date\":\"2020-04-23\",\"county\":\"San Diego\",\"state\":\"California\",\"fips\":6073.0,\"cases\":2643,\"deaths\":112},{\"date\":\"2020-04-24\",\"county\":\"San Diego\",\"state\":\"California\",\"fips\":6073.0,\"cases\":2826,\"deaths\":102},{\"date\":\"2020-04-25\",\"county\":\"San Diego\",\"state\":\"California\",\"fips\":6073.0,\"cases\":2943,\"deaths\":111},{\"date\":\"2020-04-26\",\"county\":\"San Diego\",\"state\":\"California\",\"fips\":6073.0,\"cases\":3043,\"deaths\":111},{\"date\":\"2020-04-27\",\"county\":\"San Diego\",\"state\":\"California\",\"fips\":6073.0,\"cases\":3141,\"deaths\":123},{\"date\":\"2020-04-28\",\"county\":\"San Diego\",\"state\":\"California\",\"fips\":6073.0,\"cases\":3378,\"deaths\":128},{\"date\":\"2020-04-29\",\"county\":\"San Diego\",\"state\":\"California\",\"fips\":6073.0,\"cases\":3432,\"deaths\":133},{\"date\":\"2020-04-30\",\"county\":\"San Diego\",\"state\":\"California\",\"fips\":6073.0,\"cases\":3627,\"deaths\":140},{\"date\":\"2020-05-01\",\"county\":\"San Diego\",\"state\":\"California\",\"fips\":6073.0,\"cases\":3774,\"deaths\":143},{\"date\":\"2020-05-02\",\"county\":\"San Diego\",\"state\":\"California\",\"fips\":6073.0,\"cases\":3905,\"deaths\":150},{\"date\":\"2020-05-03\",\"county\":\"San Diego\",\"state\":\"California\",\"fips\":6073.0,\"cases\":3990,\"deaths\":150},{\"date\":\"2020-05-04\",\"county\":\"San Diego\",\"state\":\"California\",\"fips\":6073.0,\"cases\":4083,\"deaths\":150},{\"date\":\"2020-05-05\",\"county\":\"San Diego\",\"state\":\"California\",\"fips\":6073.0,\"cases\":4223,\"deaths\":162},{\"date\":\"2020-05-06\",\"county\":\"San Diego\",\"state\":\"California\",\"fips\":6073.0,\"cases\":4382,\"deaths\":173}]'"
      ]
     },
     "execution_count": 13,
     "metadata": {},
     "output_type": "execute_result"
    }
   ],
   "source": [
    "data_json2"
   ]
  },
  {
   "cell_type": "code",
   "execution_count": 14,
   "metadata": {},
   "outputs": [
    {
     "data": {
      "text/plain": [
       "'{\"date\":{\"0\":\"2020-02-10\",\"1\":\"2020-02-11\",\"2\":\"2020-02-12\",\"3\":\"2020-02-13\",\"4\":\"2020-02-14\",\"5\":\"2020-02-15\",\"6\":\"2020-02-16\",\"7\":\"2020-02-17\",\"8\":\"2020-02-18\",\"9\":\"2020-02-19\",\"10\":\"2020-02-20\",\"11\":\"2020-02-21\",\"12\":\"2020-02-22\",\"13\":\"2020-02-23\",\"14\":\"2020-02-24\",\"15\":\"2020-02-25\",\"16\":\"2020-02-26\",\"17\":\"2020-02-27\",\"18\":\"2020-02-28\",\"19\":\"2020-02-29\",\"20\":\"2020-03-01\",\"21\":\"2020-03-02\",\"22\":\"2020-03-03\",\"23\":\"2020-03-04\",\"24\":\"2020-03-05\",\"25\":\"2020-03-06\",\"26\":\"2020-03-07\",\"27\":\"2020-03-08\",\"28\":\"2020-03-09\",\"29\":\"2020-03-10\",\"30\":\"2020-03-11\",\"31\":\"2020-03-12\",\"32\":\"2020-03-13\",\"33\":\"2020-03-14\",\"34\":\"2020-03-15\",\"35\":\"2020-03-16\",\"36\":\"2020-03-17\",\"37\":\"2020-03-18\",\"38\":\"2020-03-19\",\"39\":\"2020-03-20\",\"40\":\"2020-03-21\",\"41\":\"2020-03-22\",\"42\":\"2020-03-23\",\"43\":\"2020-03-24\",\"44\":\"2020-03-25\",\"45\":\"2020-03-26\",\"46\":\"2020-03-27\",\"47\":\"2020-03-28\",\"48\":\"2020-03-29\",\"49\":\"2020-03-30\",\"50\":\"2020-03-31\",\"51\":\"2020-04-01\",\"52\":\"2020-04-02\",\"53\":\"2020-04-03\",\"54\":\"2020-04-04\",\"55\":\"2020-04-05\",\"56\":\"2020-04-06\",\"57\":\"2020-04-07\",\"58\":\"2020-04-08\",\"59\":\"2020-04-09\",\"60\":\"2020-04-10\",\"61\":\"2020-04-11\",\"62\":\"2020-04-12\",\"63\":\"2020-04-13\",\"64\":\"2020-04-14\",\"65\":\"2020-04-15\",\"66\":\"2020-04-16\",\"67\":\"2020-04-17\",\"68\":\"2020-04-18\",\"69\":\"2020-04-19\",\"70\":\"2020-04-20\",\"71\":\"2020-04-21\",\"72\":\"2020-04-22\",\"73\":\"2020-04-23\",\"74\":\"2020-04-24\",\"75\":\"2020-04-25\",\"76\":\"2020-04-26\",\"77\":\"2020-04-27\",\"78\":\"2020-04-28\",\"79\":\"2020-04-29\",\"80\":\"2020-04-30\",\"81\":\"2020-05-01\",\"82\":\"2020-05-02\",\"83\":\"2020-05-03\",\"84\":\"2020-05-04\",\"85\":\"2020-05-05\",\"86\":\"2020-05-06\"},\"county\":{\"0\":\"San Diego\",\"1\":\"San Diego\",\"2\":\"San Diego\",\"3\":\"San Diego\",\"4\":\"San Diego\",\"5\":\"San Diego\",\"6\":\"San Diego\",\"7\":\"San Diego\",\"8\":\"San Diego\",\"9\":\"San Diego\",\"10\":\"San Diego\",\"11\":\"San Diego\",\"12\":\"San Diego\",\"13\":\"San Diego\",\"14\":\"San Diego\",\"15\":\"San Diego\",\"16\":\"San Diego\",\"17\":\"San Diego\",\"18\":\"San Diego\",\"19\":\"San Diego\",\"20\":\"San Diego\",\"21\":\"San Diego\",\"22\":\"San Diego\",\"23\":\"San Diego\",\"24\":\"San Diego\",\"25\":\"San Diego\",\"26\":\"San Diego\",\"27\":\"San Diego\",\"28\":\"San Diego\",\"29\":\"San Diego\",\"30\":\"San Diego\",\"31\":\"San Diego\",\"32\":\"San Diego\",\"33\":\"San Diego\",\"34\":\"San Diego\",\"35\":\"San Diego\",\"36\":\"San Diego\",\"37\":\"San Diego\",\"38\":\"San Diego\",\"39\":\"San Diego\",\"40\":\"San Diego\",\"41\":\"San Diego\",\"42\":\"San Diego\",\"43\":\"San Diego\",\"44\":\"San Diego\",\"45\":\"San Diego\",\"46\":\"San Diego\",\"47\":\"San Diego\",\"48\":\"San Diego\",\"49\":\"San Diego\",\"50\":\"San Diego\",\"51\":\"San Diego\",\"52\":\"San Diego\",\"53\":\"San Diego\",\"54\":\"San Diego\",\"55\":\"San Diego\",\"56\":\"San Diego\",\"57\":\"San Diego\",\"58\":\"San Diego\",\"59\":\"San Diego\",\"60\":\"San Diego\",\"61\":\"San Diego\",\"62\":\"San Diego\",\"63\":\"San Diego\",\"64\":\"San Diego\",\"65\":\"San Diego\",\"66\":\"San Diego\",\"67\":\"San Diego\",\"68\":\"San Diego\",\"69\":\"San Diego\",\"70\":\"San Diego\",\"71\":\"San Diego\",\"72\":\"San Diego\",\"73\":\"San Diego\",\"74\":\"San Diego\",\"75\":\"San Diego\",\"76\":\"San Diego\",\"77\":\"San Diego\",\"78\":\"San Diego\",\"79\":\"San Diego\",\"80\":\"San Diego\",\"81\":\"San Diego\",\"82\":\"San Diego\",\"83\":\"San Diego\",\"84\":\"San Diego\",\"85\":\"San Diego\",\"86\":\"San Diego\"},\"state\":{\"0\":\"California\",\"1\":\"California\",\"2\":\"California\",\"3\":\"California\",\"4\":\"California\",\"5\":\"California\",\"6\":\"California\",\"7\":\"California\",\"8\":\"California\",\"9\":\"California\",\"10\":\"California\",\"11\":\"California\",\"12\":\"California\",\"13\":\"California\",\"14\":\"California\",\"15\":\"California\",\"16\":\"California\",\"17\":\"California\",\"18\":\"California\",\"19\":\"California\",\"20\":\"California\",\"21\":\"California\",\"22\":\"California\",\"23\":\"California\",\"24\":\"California\",\"25\":\"California\",\"26\":\"California\",\"27\":\"California\",\"28\":\"California\",\"29\":\"California\",\"30\":\"California\",\"31\":\"California\",\"32\":\"California\",\"33\":\"California\",\"34\":\"California\",\"35\":\"California\",\"36\":\"California\",\"37\":\"California\",\"38\":\"California\",\"39\":\"California\",\"40\":\"California\",\"41\":\"California\",\"42\":\"California\",\"43\":\"California\",\"44\":\"California\",\"45\":\"California\",\"46\":\"California\",\"47\":\"California\",\"48\":\"California\",\"49\":\"California\",\"50\":\"California\",\"51\":\"California\",\"52\":\"California\",\"53\":\"California\",\"54\":\"California\",\"55\":\"California\",\"56\":\"California\",\"57\":\"California\",\"58\":\"California\",\"59\":\"California\",\"60\":\"California\",\"61\":\"California\",\"62\":\"California\",\"63\":\"California\",\"64\":\"California\",\"65\":\"California\",\"66\":\"California\",\"67\":\"California\",\"68\":\"California\",\"69\":\"California\",\"70\":\"California\",\"71\":\"California\",\"72\":\"California\",\"73\":\"California\",\"74\":\"California\",\"75\":\"California\",\"76\":\"California\",\"77\":\"California\",\"78\":\"California\",\"79\":\"California\",\"80\":\"California\",\"81\":\"California\",\"82\":\"California\",\"83\":\"California\",\"84\":\"California\",\"85\":\"California\",\"86\":\"California\"},\"fips\":{\"0\":6073.0,\"1\":6073.0,\"2\":6073.0,\"3\":6073.0,\"4\":6073.0,\"5\":6073.0,\"6\":6073.0,\"7\":6073.0,\"8\":6073.0,\"9\":6073.0,\"10\":6073.0,\"11\":6073.0,\"12\":6073.0,\"13\":6073.0,\"14\":6073.0,\"15\":6073.0,\"16\":6073.0,\"17\":6073.0,\"18\":6073.0,\"19\":6073.0,\"20\":6073.0,\"21\":6073.0,\"22\":6073.0,\"23\":6073.0,\"24\":6073.0,\"25\":6073.0,\"26\":6073.0,\"27\":6073.0,\"28\":6073.0,\"29\":6073.0,\"30\":6073.0,\"31\":6073.0,\"32\":6073.0,\"33\":6073.0,\"34\":6073.0,\"35\":6073.0,\"36\":6073.0,\"37\":6073.0,\"38\":6073.0,\"39\":6073.0,\"40\":6073.0,\"41\":6073.0,\"42\":6073.0,\"43\":6073.0,\"44\":6073.0,\"45\":6073.0,\"46\":6073.0,\"47\":6073.0,\"48\":6073.0,\"49\":6073.0,\"50\":6073.0,\"51\":6073.0,\"52\":6073.0,\"53\":6073.0,\"54\":6073.0,\"55\":6073.0,\"56\":6073.0,\"57\":6073.0,\"58\":6073.0,\"59\":6073.0,\"60\":6073.0,\"61\":6073.0,\"62\":6073.0,\"63\":6073.0,\"64\":6073.0,\"65\":6073.0,\"66\":6073.0,\"67\":6073.0,\"68\":6073.0,\"69\":6073.0,\"70\":6073.0,\"71\":6073.0,\"72\":6073.0,\"73\":6073.0,\"74\":6073.0,\"75\":6073.0,\"76\":6073.0,\"77\":6073.0,\"78\":6073.0,\"79\":6073.0,\"80\":6073.0,\"81\":6073.0,\"82\":6073.0,\"83\":6073.0,\"84\":6073.0,\"85\":6073.0,\"86\":6073.0},\"cases\":{\"0\":1,\"1\":1,\"2\":1,\"3\":1,\"4\":1,\"5\":1,\"6\":1,\"7\":1,\"8\":1,\"9\":1,\"10\":1,\"11\":1,\"12\":1,\"13\":1,\"14\":1,\"15\":1,\"16\":1,\"17\":1,\"18\":1,\"19\":1,\"20\":1,\"21\":1,\"22\":1,\"23\":1,\"24\":1,\"25\":1,\"26\":1,\"27\":1,\"28\":2,\"29\":2,\"30\":2,\"31\":5,\"32\":9,\"33\":10,\"34\":40,\"35\":56,\"36\":61,\"37\":81,\"38\":105,\"39\":131,\"40\":159,\"41\":205,\"42\":230,\"43\":242,\"44\":297,\"45\":341,\"46\":417,\"47\":488,\"48\":519,\"49\":603,\"50\":734,\"51\":849,\"52\":966,\"53\":1112,\"54\":1209,\"55\":1326,\"56\":1404,\"57\":1454,\"58\":1530,\"59\":1628,\"60\":1696,\"61\":1761,\"62\":1804,\"63\":1847,\"64\":1930,\"65\":2012,\"66\":2087,\"67\":2158,\"68\":2213,\"69\":2268,\"70\":2325,\"71\":2434,\"72\":2491,\"73\":2643,\"74\":2826,\"75\":2943,\"76\":3043,\"77\":3141,\"78\":3378,\"79\":3432,\"80\":3627,\"81\":3774,\"82\":3905,\"83\":3990,\"84\":4083,\"85\":4223,\"86\":4382},\"deaths\":{\"0\":0,\"1\":0,\"2\":0,\"3\":0,\"4\":0,\"5\":0,\"6\":0,\"7\":0,\"8\":0,\"9\":0,\"10\":0,\"11\":0,\"12\":0,\"13\":0,\"14\":0,\"15\":0,\"16\":0,\"17\":0,\"18\":0,\"19\":0,\"20\":0,\"21\":0,\"22\":0,\"23\":0,\"24\":0,\"25\":0,\"26\":0,\"27\":0,\"28\":0,\"29\":0,\"30\":0,\"31\":0,\"32\":0,\"33\":0,\"34\":0,\"35\":0,\"36\":0,\"37\":0,\"38\":0,\"39\":0,\"40\":0,\"41\":0,\"42\":0,\"43\":1,\"44\":2,\"45\":3,\"46\":5,\"47\":7,\"48\":7,\"49\":7,\"50\":9,\"51\":15,\"52\":16,\"53\":17,\"54\":18,\"55\":19,\"56\":19,\"57\":31,\"58\":36,\"59\":40,\"60\":44,\"61\":45,\"62\":45,\"63\":47,\"64\":53,\"65\":60,\"66\":63,\"67\":70,\"68\":71,\"69\":71,\"70\":72,\"71\":87,\"72\":96,\"73\":112,\"74\":102,\"75\":111,\"76\":111,\"77\":123,\"78\":128,\"79\":133,\"80\":140,\"81\":143,\"82\":150,\"83\":150,\"84\":150,\"85\":162,\"86\":173}}'"
      ]
     },
     "execution_count": 14,
     "metadata": {},
     "output_type": "execute_result"
    }
   ],
   "source": [
    "data_json"
   ]
  },
  {
   "cell_type": "code",
   "execution_count": null,
   "metadata": {},
   "outputs": [],
   "source": []
  }
 ],
 "metadata": {
  "kernelspec": {
   "display_name": "Python 3",
   "language": "python",
   "name": "python3"
  },
  "language_info": {
   "codemirror_mode": {
    "name": "ipython",
    "version": 3
   },
   "file_extension": ".py",
   "mimetype": "text/x-python",
   "name": "python",
   "nbconvert_exporter": "python",
   "pygments_lexer": "ipython3",
   "version": "3.7.3"
  }
 },
 "nbformat": 4,
 "nbformat_minor": 2
}
